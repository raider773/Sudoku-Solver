{
 "cells": [
  {
   "cell_type": "markdown",
   "id": "5b5cfc45-7a58-44f9-b6c0-3457ea0802eb",
   "metadata": {},
   "source": [
    "### Create Sudoku Vectors"
   ]
  },
  {
   "cell_type": "code",
   "execution_count": 1,
   "id": "d74dd159",
   "metadata": {},
   "outputs": [],
   "source": [
    "vector = [0 for i in range(0, 81)]"
   ]
  },
  {
   "cell_type": "code",
   "execution_count": 2,
   "id": "a2e7fd20-86d9-4566-bf20-db45f569cee5",
   "metadata": {},
   "outputs": [],
   "source": [
    "# Option A -- Difficulty : Easy\n",
    "vector[2] = 4\n",
    "vector[5] = 1\n",
    "vector[7] = 7\n",
    "vector[8] = 6\n",
    "\n",
    "vector[14] = 9\n",
    "vector[15] = 1\n",
    "\n",
    "vector[21] = 8\n",
    "vector[26] = 5\n",
    "\n",
    "\n",
    "vector[28] = 3\n",
    "vector[35] = 1\n",
    "\n",
    "vector[36] = 7\n",
    "vector[37] = 4\n",
    "vector[39] = 2\n",
    "\n",
    "vector[45] = 1\n",
    "vector[46] = 9\n",
    "vector[50] = 3\n",
    "vector[51] = 4\n",
    "\n",
    "vector[60] = 3\n",
    "\n",
    "vector[66] = 3\n",
    "vector[68] = 4\n",
    "vector[70] = 2\n",
    "\n",
    "vector[74] = 8\n",
    "vector[76] = 6"
   ]
  },
  {
   "cell_type": "code",
   "execution_count": null,
   "id": "f1c41fed-f9da-4fea-b6c0-01e7429f35be",
   "metadata": {},
   "outputs": [],
   "source": [
    "#Option B -- Difficulty : Expert\n",
    "vector[0] = 3\n",
    "vector[1] = 9\n",
    "vector[2] = 1\n",
    "vector[3] = 5\n",
    "vector[4] = 6\n",
    "vector[7] = 4\n",
    "vector[8] = 7\n",
    "\n",
    "vector[9] = 8\n",
    "vector[10] = 7\n",
    "vector[12] = 9\n",
    "vector[13] = 4\n",
    "vector[15] = 1\n",
    "vector[16] = 2\n",
    "vector[17] = 5\n",
    "\n",
    "vector[20] = 2\n",
    "vector[21] = 1\n",
    "vector[22] = 8\n",
    "\n",
    "vector[30] = 2\n",
    "vector[32] = 9\n",
    "vector[34] = 7\n",
    "vector[35] = 8\n",
    "\n",
    "vector[36] = 9\n",
    "vector[41] = 4\n",
    "vector[42] = 6\n",
    "vector[44] = 1\n",
    "\n",
    "vector[47] = 3\n",
    "vector[48] = 7\n",
    "\n",
    "vector[55] = 3\n",
    "vector[56] = 4\n",
    "vector[60] = 7\n",
    "vector[62] = 2\n",
    "\n",
    "vector[68] = 1\n",
    "vector[70] = 6\n",
    "\n",
    "vector[72] = 7\n",
    "vector[73] = 6\n",
    "vector[75] = 4\n",
    "\n"
   ]
  },
  {
   "cell_type": "markdown",
   "id": "276cc711-e4ea-4026-806c-9a1807247e2d",
   "metadata": {},
   "source": [
    "### Utility Functions"
   ]
  },
  {
   "cell_type": "code",
   "execution_count": 3,
   "id": "31a901a2",
   "metadata": {},
   "outputs": [],
   "source": [
    "def get_matrix(vector):\n",
    "    pre = 0\n",
    "    matrix = []\n",
    "    for i in range(3,82,3):    \n",
    "        matrix.append(vector[pre:i])   \n",
    "        pre = i\n",
    "    return matrix"
   ]
  },
  {
   "cell_type": "code",
   "execution_count": 4,
   "id": "245cb75d",
   "metadata": {},
   "outputs": [],
   "source": [
    "def multiples(m, count):\n",
    "    multiples = []\n",
    "    for i in range(0,count*m,m):\n",
    "        multiples.append(i)\n",
    "    return multiples"
   ]
  },
  {
   "cell_type": "code",
   "execution_count": 5,
   "id": "e5eee62b",
   "metadata": {},
   "outputs": [],
   "source": [
    "def printSudoku(vector):\n",
    "    matrix =  get_matrix(vector)\n",
    "    multiplesOf3= multiples(3,10)\n",
    "    count = 0\n",
    "    for i in multiplesOf3[:-1]:\n",
    "        pre = i\n",
    "        if (count) % 3 == 0:\n",
    "            print(\"-\"* 33)\n",
    "        print(matrix[pre], \"|\", matrix[pre+1],\"|\", matrix[pre+2])   \n",
    "        count += 1\n",
    "    print(\"-\"* 33)"
   ]
  },
  {
   "cell_type": "code",
   "execution_count": 6,
   "id": "17234afd",
   "metadata": {},
   "outputs": [],
   "source": [
    "def ValidateNumber(step,vector):\n",
    "    result = True  \n",
    "    if vector[step] != 0:\n",
    "        result = False   \n",
    "    return result\n",
    "        \n",
    "        \n",
    "\n",
    "\n",
    "def ValidateRow(number,step,vector):\n",
    "    pre = 0\n",
    "    result = True\n",
    "    for i in multiples(9,10):\n",
    "        if step > pre and step < i:              \n",
    "            if number in vector[pre:i]:\n",
    "                result = False                   \n",
    "        pre = i\n",
    "    return result\n",
    "\n",
    "\n",
    "def ValidateColumn(number,step,vector):    \n",
    "    result = True\n",
    "    for i in multiples(9,9):\n",
    "        if number == vector[step - i]:\n",
    "            result = False\n",
    "    return result\n",
    "        \n",
    "\n",
    "def get_cuadrants(vector):\n",
    "    cuadrantes = {}\n",
    "    cont = 1\n",
    "    for i in multiples(27,3):\n",
    "\n",
    "        indice = i\n",
    "        indice2 = i + 3\n",
    "        indice3 = i + 6\n",
    "        cuad = [vector[indice],vector[indice+1],vector[indice+2],\n",
    "         vector[indice + 9],vector[indice+10],vector[indice+11],\n",
    "         vector[indice + 18],vector[indice+19],vector[indice+20]\n",
    "        ]\n",
    "\n",
    "        cuadrantes[f\"cuadrante_{cont}\"] = [cuad,\n",
    "        [indice,indice+1,indice+2,indice+9,indice+10,indice+11,indice+18,indice+19,indice+20]]\n",
    "\n",
    "        cuad2 = [vector[indice2],vector[indice2+1],vector[indice2+2],\n",
    "         vector[indice2 + 9],vector[indice2+10],vector[indice2+11],\n",
    "         vector[indice2 + 18],vector[indice2+19],vector[indice2+20]\n",
    "        ]\n",
    "\n",
    "        cuadrantes[f\"cuadrante_{cont+1}\"] = [cuad2,\n",
    "        [indice2,indice2+1,indice2+2,indice2+9,indice2+10,indice2+11,indice2+18,indice2+19,indice2+20]]\n",
    "\n",
    "        cuad3 = [vector[indice3],vector[indice3+1],vector[indice3+2],\n",
    "         vector[indice3 + 9],vector[indice3+10],vector[indice3+11],\n",
    "         vector[indice3 + 18],vector[indice3+19],vector[indice3+20]\n",
    "        ]    \n",
    "\n",
    "        cuadrantes[f\"cuadrante_{cont+2}\"] = [cuad3,\n",
    "        [indice3,indice3+1,indice3+2,indice3+9,indice3+10,indice3+11,indice3+18,indice3+19,indice3+20]]\n",
    "\n",
    "        cont = cont + 3\n",
    "        \n",
    "    return cuadrantes \n",
    "\n",
    "def Validate_box(number,step,vector):\n",
    "    resultado = True\n",
    "    cuadrants = get_cuadrants(vector)    \n",
    "    for i in range(1,10):\n",
    "        if step in cuadrants[f\"cuadrante_{i}\"][1]:            \n",
    "            if number in cuadrants[f\"cuadrante_{i}\"][0]:\n",
    "                resultado = False\n",
    "    return resultado\n"
   ]
  },
  {
   "cell_type": "code",
   "execution_count": 7,
   "id": "6a506517-26ff-42ef-8dd6-8368d4c6c9cb",
   "metadata": {},
   "outputs": [],
   "source": [
    "def solucion(vector):\n",
    "    result = True\n",
    "    for i in range(len(vector)):\n",
    "        vectorreemplazar = vector.copy()\n",
    "        vectorreemplazar[i] = 0\n",
    "        if ValidateRow(vector[i],i,vectorreemplazar) == False or ValidateColumn(vector[i],i,vectorreemplazar) == False or Validate_box(vector[i],i,vectorreemplazar) == False:            \n",
    "            result = False\n",
    "    return result"
   ]
  },
  {
   "cell_type": "markdown",
   "id": "be5e4c3e-3471-49a9-83a2-baa613ac8a48",
   "metadata": {},
   "source": [
    "### Backtracking Algo"
   ]
  },
  {
   "cell_type": "code",
   "execution_count": 8,
   "id": "b6fc079e-01fa-4203-a770-f6cf79e96975",
   "metadata": {
    "tags": []
   },
   "outputs": [],
   "source": [
    "def backtrackingSudoku (vector,vectorO,step,soluciones): \n",
    "    if ValidateNumber(step,vector) == False:\n",
    "        backtrackingSudoku (vector,vectorO,step + 1,soluciones)\n",
    "    elif ValidateNumber(step,vector) == True:     \n",
    "        for i in range (1,10):        \n",
    "            if ValidateRow(i,step,vector) and  ValidateColumn(i,step,vector) and Validate_box(i,step,vector):\n",
    "                vector[step] = i                \n",
    "                if 0 not in vector:                   \n",
    "                    if solucion(vector):                        \n",
    "                        soluciones.append(vector.copy())\n",
    "                else:\n",
    "                    backtrackingSudoku (vector,vectorO,step + 1,soluciones)                               \n",
    "                vector[step] = 0\n",
    "     "
   ]
  },
  {
   "cell_type": "code",
   "execution_count": 9,
   "id": "5fa514cb-890b-467d-915b-f0886871abad",
   "metadata": {
    "tags": []
   },
   "outputs": [],
   "source": [
    "vectorO = vector.copy()\n",
    "soluciones = []\n",
    "backtrackingSudoku (vector,vectorO,0,soluciones)"
   ]
  },
  {
   "cell_type": "markdown",
   "id": "54025be3-c68d-418c-ba34-af626cb07868",
   "metadata": {},
   "source": [
    "### Print Solution"
   ]
  },
  {
   "cell_type": "code",
   "execution_count": 10,
   "id": "db4836d1-6037-4486-bdd0-bc0102ff4876",
   "metadata": {},
   "outputs": [
    {
     "name": "stdout",
     "output_type": "stream",
     "text": [
      "Original Sudoku:\n",
      "---------------------------------\n",
      "[0, 0, 4] | [0, 0, 1] | [0, 7, 6]\n",
      "[0, 0, 0] | [0, 0, 9] | [1, 0, 0]\n",
      "[0, 0, 0] | [8, 0, 0] | [0, 0, 5]\n",
      "---------------------------------\n",
      "[0, 3, 0] | [0, 0, 0] | [0, 0, 1]\n",
      "[7, 4, 0] | [2, 0, 0] | [0, 0, 0]\n",
      "[1, 9, 0] | [0, 0, 3] | [4, 0, 0]\n",
      "---------------------------------\n",
      "[0, 0, 0] | [0, 0, 0] | [3, 0, 0]\n",
      "[0, 0, 0] | [3, 0, 4] | [0, 2, 0]\n",
      "[0, 0, 8] | [0, 6, 0] | [0, 0, 0]\n",
      "---------------------------------\n",
      "Solution for Sudoku:\n",
      "---------------------------------\n",
      "[9, 8, 4] | [5, 3, 1] | [2, 7, 6]\n",
      "[2, 5, 7] | [6, 4, 9] | [1, 3, 8]\n",
      "[6, 1, 3] | [8, 2, 7] | [9, 4, 5]\n",
      "---------------------------------\n",
      "[8, 3, 2] | [4, 9, 6] | [7, 5, 1]\n",
      "[7, 4, 5] | [2, 1, 8] | [6, 9, 3]\n",
      "[1, 9, 6] | [7, 5, 3] | [4, 8, 2]\n",
      "---------------------------------\n",
      "[4, 2, 9] | [1, 8, 5] | [3, 6, 7]\n",
      "[5, 6, 1] | [3, 7, 4] | [8, 2, 9]\n",
      "[3, 7, 8] | [9, 6, 2] | [5, 1, 4]\n",
      "---------------------------------\n",
      "True\n"
     ]
    }
   ],
   "source": [
    "print(\"Original Sudoku:\", end = \"\\n\")\n",
    "printSudoku(vectorO)\n",
    "print(\"Solution for Sudoku:\", end = \"\\n\")\n",
    "for i in soluciones:\n",
    "    printSudoku(i)\n",
    "    print(solucion(i))"
   ]
  }
 ],
 "metadata": {
  "kernelspec": {
   "display_name": "Python 3 (ipykernel)",
   "language": "python",
   "name": "python3"
  },
  "language_info": {
   "codemirror_mode": {
    "name": "ipython",
    "version": 3
   },
   "file_extension": ".py",
   "mimetype": "text/x-python",
   "name": "python",
   "nbconvert_exporter": "python",
   "pygments_lexer": "ipython3",
   "version": "3.8.13"
  }
 },
 "nbformat": 4,
 "nbformat_minor": 5
}
