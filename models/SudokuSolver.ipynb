{
 "cells": [
  {
   "cell_type": "code",
   "execution_count": 1,
   "id": "165a96bd-75ca-47ed-964f-8efa84cac353",
   "metadata": {},
   "outputs": [
    {
     "name": "stderr",
     "output_type": "stream",
     "text": [
      "CUDA not available - defaulting to CPU. Note: This module is much faster with a GPU.\n"
     ]
    }
   ],
   "source": [
    "from CannyEdgeDetection import CannyEdgeDetection\n",
    "from DigitsOCR import get_digits\n",
    "from BacktrackingAlgorithm import backtrackingSudoku\n",
    "\n",
    "import pandas as pd\n",
    "import numpy as np\n",
    "import matplotlib.pyplot as plt\n",
    "\n",
    "from utils import printSudoku"
   ]
  },
  {
   "cell_type": "code",
   "execution_count": 2,
   "id": "b4110b2b-0e2f-4f24-a2b5-58f3d4f3b78b",
   "metadata": {},
   "outputs": [],
   "source": [
    "digits_images = CannyEdgeDetection(\"Data/VeryHard1.PNG\",170, 490)"
   ]
  },
  {
   "cell_type": "code",
   "execution_count": 3,
   "id": "ee9f7c02-a4d2-452d-b128-e5a86a15c646",
   "metadata": {},
   "outputs": [
    {
     "name": "stdout",
     "output_type": "stream",
     "text": [
      "Getting digit 1 of 81\n",
      "Getting digit 2 of 81\n",
      "Getting digit 3 of 81\n",
      "Getting digit 4 of 81\n",
      "Getting digit 5 of 81\n",
      "Getting digit 6 of 81\n",
      "Getting digit 7 of 81\n",
      "Getting digit 8 of 81\n",
      "Getting digit 9 of 81\n",
      "Getting digit 10 of 81\n",
      "Getting digit 11 of 81\n",
      "Getting digit 12 of 81\n",
      "Getting digit 13 of 81\n",
      "Getting digit 14 of 81\n",
      "Getting digit 15 of 81\n",
      "Getting digit 16 of 81\n",
      "Getting digit 17 of 81\n",
      "Getting digit 18 of 81\n",
      "Getting digit 19 of 81\n",
      "Getting digit 20 of 81\n",
      "Getting digit 21 of 81\n",
      "Getting digit 22 of 81\n",
      "Getting digit 23 of 81\n",
      "Getting digit 24 of 81\n",
      "Getting digit 25 of 81\n",
      "Getting digit 26 of 81\n",
      "Getting digit 27 of 81\n",
      "Getting digit 28 of 81\n",
      "Getting digit 29 of 81\n",
      "Getting digit 30 of 81\n",
      "Getting digit 31 of 81\n",
      "Getting digit 32 of 81\n",
      "Getting digit 33 of 81\n",
      "Getting digit 34 of 81\n",
      "Getting digit 35 of 81\n",
      "Getting digit 36 of 81\n",
      "Getting digit 37 of 81\n",
      "Getting digit 38 of 81\n",
      "Getting digit 39 of 81\n",
      "Getting digit 40 of 81\n",
      "Getting digit 41 of 81\n",
      "Getting digit 42 of 81\n",
      "Getting digit 43 of 81\n",
      "Getting digit 44 of 81\n",
      "Getting digit 45 of 81\n",
      "Getting digit 46 of 81\n",
      "Getting digit 47 of 81\n",
      "Getting digit 48 of 81\n",
      "Getting digit 49 of 81\n",
      "Getting digit 50 of 81\n",
      "Getting digit 51 of 81\n",
      "Getting digit 52 of 81\n",
      "Getting digit 53 of 81\n",
      "Getting digit 54 of 81\n",
      "Getting digit 55 of 81\n",
      "Getting digit 56 of 81\n",
      "Getting digit 57 of 81\n",
      "Getting digit 58 of 81\n",
      "Getting digit 59 of 81\n",
      "Getting digit 60 of 81\n",
      "Getting digit 61 of 81\n",
      "Getting digit 62 of 81\n",
      "Getting digit 63 of 81\n",
      "Getting digit 64 of 81\n",
      "Getting digit 65 of 81\n",
      "Getting digit 66 of 81\n",
      "Getting digit 67 of 81\n",
      "Getting digit 68 of 81\n",
      "Getting digit 69 of 81\n",
      "Getting digit 70 of 81\n",
      "Getting digit 71 of 81\n",
      "Getting digit 72 of 81\n",
      "Getting digit 73 of 81\n",
      "Getting digit 74 of 81\n",
      "Getting digit 75 of 81\n",
      "Getting digit 76 of 81\n",
      "Getting digit 77 of 81\n",
      "Getting digit 78 of 81\n",
      "Getting digit 79 of 81\n",
      "Getting digit 80 of 81\n",
      "Getting digit 81 of 81\n"
     ]
    }
   ],
   "source": [
    "digits = get_digits(digits_images)"
   ]
  },
  {
   "cell_type": "code",
   "execution_count": 4,
   "id": "5b355a55-6d16-4756-b839-4b2a971789bd",
   "metadata": {},
   "outputs": [
    {
     "name": "stdout",
     "output_type": "stream",
     "text": [
      "---------------------------------\n",
      "[0, 0, 8] | [0, 0, 0] | [2, 0, 0]\n",
      "[5, 1, 0] | [0, 9, 0] | [0, 0, 0]\n",
      "[0, 0, 3] | [0, 0, 0] | [6, 0, 0]\n",
      "---------------------------------\n",
      "[0, 6, 0] | [4, 0, 0] | [0, 9, 8]\n",
      "[0, 0, 0] | [8, 0, 0] | [5, 0, 0]\n",
      "[1, 0, 0] | [0, 7, 0] | [0, 0, 0]\n",
      "---------------------------------\n",
      "[0, 4, 0] | [0, 0, 7] | [0, 0, 3]\n",
      "[2, 7, 0] | [5, 0, 0] | [0, 6, 0]\n",
      "[0, 0, 0] | [0, 0, 8] | [0, 0, 0]\n",
      "---------------------------------\n"
     ]
    }
   ],
   "source": [
    "printSudoku(digits)"
   ]
  },
  {
   "cell_type": "code",
   "execution_count": 5,
   "id": "f286c28c-d2c6-4f70-a542-ec93123693d9",
   "metadata": {},
   "outputs": [],
   "source": [
    "solution = []"
   ]
  },
  {
   "cell_type": "code",
   "execution_count": 6,
   "id": "d8228844-e2b5-4b68-b306-170236817851",
   "metadata": {},
   "outputs": [],
   "source": [
    "backtrackingSudoku (digits,digits.copy(),0,solution)"
   ]
  },
  {
   "cell_type": "code",
   "execution_count": 7,
   "id": "cc801e27-29c7-4dfc-afd2-62dfd697f395",
   "metadata": {},
   "outputs": [
    {
     "name": "stdout",
     "output_type": "stream",
     "text": [
      "---------------------------------\n",
      "[6, 9, 8] | [3, 4, 1] | [2, 7, 5]\n",
      "[5, 1, 7] | [6, 9, 2] | [3, 8, 4]\n",
      "[4, 2, 3] | [7, 8, 5] | [6, 1, 9]\n",
      "---------------------------------\n",
      "[7, 6, 2] | [4, 5, 3] | [1, 9, 8]\n",
      "[9, 3, 4] | [8, 1, 6] | [5, 2, 7]\n",
      "[1, 8, 5] | [2, 7, 9] | [4, 3, 6]\n",
      "---------------------------------\n",
      "[8, 4, 6] | [1, 2, 7] | [9, 5, 3]\n",
      "[2, 7, 9] | [5, 3, 4] | [8, 6, 1]\n",
      "[3, 5, 1] | [9, 6, 8] | [7, 4, 2]\n",
      "---------------------------------\n"
     ]
    }
   ],
   "source": [
    "printSudoku(solution[0])"
   ]
  }
 ],
 "metadata": {
  "kernelspec": {
   "display_name": "Python 3 (ipykernel)",
   "language": "python",
   "name": "python3"
  },
  "language_info": {
   "codemirror_mode": {
    "name": "ipython",
    "version": 3
   },
   "file_extension": ".py",
   "mimetype": "text/x-python",
   "name": "python",
   "nbconvert_exporter": "python",
   "pygments_lexer": "ipython3",
   "version": "3.8.13"
  }
 },
 "nbformat": 4,
 "nbformat_minor": 5
}
